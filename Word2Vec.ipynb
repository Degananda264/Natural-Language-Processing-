{
  "nbformat": 4,
  "nbformat_minor": 0,
  "metadata": {
    "colab": {
      "name": "Word2Vec.ipynb",
      "provenance": [],
      "authorship_tag": "ABX9TyOK1a1b53QdSFii1wnAI0ur",
      "include_colab_link": true
    },
    "kernelspec": {
      "name": "python3",
      "display_name": "Python 3"
    }
  },
  "cells": [
    {
      "cell_type": "markdown",
      "metadata": {
        "id": "view-in-github",
        "colab_type": "text"
      },
      "source": [
        "<a href=\"https://colab.research.google.com/github/Degananda264/Natural-Language-Processing-/blob/master/Word2Vec.ipynb\" target=\"_parent\"><img src=\"https://colab.research.google.com/assets/colab-badge.svg\" alt=\"Open In Colab\"/></a>"
      ]
    },
    {
      "cell_type": "code",
      "metadata": {
        "id": "CR5sk_Bcn7oo",
        "colab_type": "code",
        "colab": {
          "base_uri": "https://localhost:8080/",
          "height": 68
        },
        "outputId": "85d14cb2-982d-4c72-e18a-0e2a2691cb29"
      },
      "source": [
        "from gensim.models import Word2Vec\n",
        "import nltk\n",
        "nltk.download('punkt')"
      ],
      "execution_count": 17,
      "outputs": [
        {
          "output_type": "stream",
          "text": [
            "[nltk_data] Downloading package punkt to /root/nltk_data...\n",
            "[nltk_data]   Unzipping tokenizers/punkt.zip.\n"
          ],
          "name": "stdout"
        },
        {
          "output_type": "execute_result",
          "data": {
            "text/plain": [
              "True"
            ]
          },
          "metadata": {
            "tags": []
          },
          "execution_count": 17
        }
      ]
    },
    {
      "cell_type": "code",
      "metadata": {
        "id": "2REWJ-JFoFdE",
        "colab_type": "code",
        "colab": {}
      },
      "source": [
        "import re\n",
        "\n",
        "paragraph = \"\"\"I have three visions for India. In 3000 years of our history, people from all over \n",
        "               the world have come and invaded us, captured our lands, conquered our minds. \n",
        "               From Alexander onwards, the Greeks, the Turks, the Moguls, the Portuguese, the British,\n",
        "               the French, the Dutch, all of them came and looted us, took over what was ours. \n",
        "               Yet we have not done this to any other nation. We have not conquered anyone. \n",
        "               We have not grabbed their land, their culture, \n",
        "               their history and tried to enforce our way of life on them. \n",
        "               Why? Because we respect the freedom of others.That is why my \n",
        "               first vision is that of freedom. I believe that India got its first vision of \n",
        "               this in 1857, when we started the War of Independence. It is this freedom that\n",
        "               we must protect and nurture and build on. If we are not free, no one will respect us.\n",
        "               My second vision for India’s development. For fifty years we have been a developing nation.\n",
        "               It is time we see ourselves as a developed nation. We are among the top 5 nations of the world\n",
        "               in terms of GDP. We have a 10 percent growth rate in most areas. Our poverty levels are falling.\n",
        "               Our achievements are being globally recognised today. Yet we lack the self-confidence to\n",
        "               see ourselves as a developed nation, self-reliant and self-assured. Isn’t this incorrect?\n",
        "               I have a third vision. India must stand up to the world. Because I believe that unless India \n",
        "               stands up to the world, no one will respect us. Only strength respects strength. We must be \n",
        "               strong not only as a military power but also as an economic power. Both must go hand-in-hand. \n",
        "               My good fortune was to have worked with three great minds. Dr. Vikram Sarabhai of the Dept. of \n",
        "               space, Professor Satish Dhawan, who succeeded him and Dr. Brahm Prakash, father of nuclear material.\n",
        "               I was lucky to have worked with all three of them closely and consider this the great opportunity of my life. \n",
        "               I see four milestones in my career\"\"\""
      ],
      "execution_count": 0,
      "outputs": []
    },
    {
      "cell_type": "code",
      "metadata": {
        "id": "Yngk-sF5oLia",
        "colab_type": "code",
        "colab": {}
      },
      "source": [
        "# Preprocessing the data\n",
        "text = re.sub(r'\\[[0-9]*\\]',' ',paragraph)\n",
        "text = re.sub(r'\\s+',' ',text)\n",
        "text = text.lower()\n",
        "text = re.sub(r'\\d',' ',text)\n",
        "text = re.sub(r'\\s+',' ',text)"
      ],
      "execution_count": 0,
      "outputs": []
    },
    {
      "cell_type": "code",
      "metadata": {
        "id": "WiPaWunMoNm3",
        "colab_type": "code",
        "colab": {}
      },
      "source": [
        "# Preparing the dataset\n",
        "sentences = nltk.sent_tokenize(text)\n",
        "\n",
        "sentences = [nltk.word_tokenize(sentence) for sentence in sentences]"
      ],
      "execution_count": 0,
      "outputs": []
    },
    {
      "cell_type": "code",
      "metadata": {
        "id": "X443VfD7pv0U",
        "colab_type": "code",
        "colab": {
          "base_uri": "https://localhost:8080/",
          "height": 68
        },
        "outputId": "c81cc71e-794c-444d-adda-da740c501dbc"
      },
      "source": [
        "from nltk.corpus import stopwords\n",
        "nltk.download('stopwords')"
      ],
      "execution_count": 22,
      "outputs": [
        {
          "output_type": "stream",
          "text": [
            "[nltk_data] Downloading package stopwords to /root/nltk_data...\n",
            "[nltk_data]   Unzipping corpora/stopwords.zip.\n"
          ],
          "name": "stdout"
        },
        {
          "output_type": "execute_result",
          "data": {
            "text/plain": [
              "True"
            ]
          },
          "metadata": {
            "tags": []
          },
          "execution_count": 22
        }
      ]
    },
    {
      "cell_type": "code",
      "metadata": {
        "id": "GfiHkrSVoS3b",
        "colab_type": "code",
        "colab": {}
      },
      "source": [
        "for i in range(len(sentences)):\n",
        "    sentences[i] = [word for word in sentences[i] if word not in stopwords.words('english')]"
      ],
      "execution_count": 0,
      "outputs": []
    },
    {
      "cell_type": "code",
      "metadata": {
        "id": "j-_08OeboW6k",
        "colab_type": "code",
        "colab": {}
      },
      "source": [
        "\n",
        "model = Word2Vec(sentences, min_count=1)"
      ],
      "execution_count": 0,
      "outputs": []
    },
    {
      "cell_type": "code",
      "metadata": {
        "id": "jpVpK-ShoXhw",
        "colab_type": "code",
        "colab": {}
      },
      "source": [
        "words = model.wv.vocab\n"
      ],
      "execution_count": 0,
      "outputs": []
    },
    {
      "cell_type": "code",
      "metadata": {
        "id": "47dVZQpYqi4z",
        "colab_type": "code",
        "colab": {}
      },
      "source": [
        "# Finding Word Vectors\n",
        "vector = model.wv['war']"
      ],
      "execution_count": 0,
      "outputs": []
    },
    {
      "cell_type": "code",
      "metadata": {
        "id": "CBDmVJ6xqs6P",
        "colab_type": "code",
        "colab": {
          "base_uri": "https://localhost:8080/",
          "height": 459
        },
        "outputId": "e4a20df2-9b92-404a-e7dc-4363838c3bd5"
      },
      "source": [
        "vector"
      ],
      "execution_count": 30,
      "outputs": [
        {
          "output_type": "execute_result",
          "data": {
            "text/plain": [
              "array([-4.3839724e-03, -3.4683251e-03,  4.6672719e-03,  3.4669652e-03,\n",
              "       -4.5855376e-03, -2.0702891e-03,  1.6614953e-03,  4.6718302e-03,\n",
              "        4.0698252e-03,  2.1079939e-03,  1.6289393e-03,  3.0017137e-03,\n",
              "       -1.1289960e-03,  4.1685509e-03,  1.1138107e-03, -3.5430107e-03,\n",
              "        4.3302230e-04, -4.6445848e-04, -4.0370496e-03, -2.1711339e-03,\n",
              "       -4.4512277e-04, -1.9940152e-03, -3.2221057e-04,  3.8556724e-03,\n",
              "       -3.6166848e-03,  1.8426756e-03, -1.1830304e-03,  4.4379295e-03,\n",
              "        3.1292038e-03, -1.8137987e-03, -3.7347858e-03, -2.1453705e-03,\n",
              "       -6.0796901e-05,  3.7481848e-03,  4.4707078e-03,  3.8766393e-03,\n",
              "        1.2657493e-03,  4.5553399e-03, -4.0897680e-03, -2.6213385e-03,\n",
              "        3.9518336e-04,  1.5926108e-03, -1.1774004e-03, -4.5913737e-03,\n",
              "        4.1726232e-04, -3.5551575e-04, -6.5583963e-04, -3.0038652e-03,\n",
              "       -4.1173906e-03,  2.8637135e-03, -3.4595963e-03, -1.0645007e-03,\n",
              "        3.2043329e-03, -4.0279999e-03, -7.4948702e-04,  4.1583814e-03,\n",
              "       -1.9159500e-03,  1.8281823e-03, -3.2025394e-03,  3.3304472e-03,\n",
              "       -2.7138426e-04,  3.4340683e-03,  9.1923831e-04,  5.8839621e-04,\n",
              "        2.5824199e-03,  2.2069751e-03, -3.7818477e-03, -3.4641568e-03,\n",
              "        2.7045226e-03,  4.7990088e-03, -4.0535689e-03, -7.5910758e-04,\n",
              "        4.9292608e-03,  3.4596603e-03,  4.2850100e-03, -2.0529360e-03,\n",
              "       -2.4984204e-04,  2.0196040e-03, -3.9668898e-03,  6.4151513e-04,\n",
              "       -1.9026187e-03, -8.1904768e-04,  4.2057424e-03,  4.0026573e-03,\n",
              "       -1.9750134e-06,  2.0605128e-03, -3.6903170e-03,  4.4702573e-04,\n",
              "       -1.2902131e-03,  4.5611877e-03,  4.3179244e-03, -2.2127884e-03,\n",
              "        9.6380577e-04,  3.3737631e-03, -1.8148167e-03, -4.0188185e-03,\n",
              "       -7.4649364e-04, -2.5139982e-03,  1.9687542e-03, -3.8754379e-03],\n",
              "      dtype=float32)"
            ]
          },
          "metadata": {
            "tags": []
          },
          "execution_count": 30
        }
      ]
    },
    {
      "cell_type": "code",
      "metadata": {
        "id": "gN7yhAbwqw8n",
        "colab_type": "code",
        "colab": {
          "base_uri": "https://localhost:8080/",
          "height": 71
        },
        "outputId": "310db3c6-a97a-453a-ac5d-10dcb25ff5c6"
      },
      "source": [
        "# Most similar words\n",
        "similar = model.wv.most_similar('war')"
      ],
      "execution_count": 31,
      "outputs": [
        {
          "output_type": "stream",
          "text": [
            "/usr/local/lib/python3.6/dist-packages/gensim/matutils.py:737: FutureWarning: Conversion of the second argument of issubdtype from `int` to `np.signedinteger` is deprecated. In future, it will be treated as `np.int64 == np.dtype(int).type`.\n",
            "  if np.issubdtype(vec.dtype, np.int):\n"
          ],
          "name": "stderr"
        }
      ]
    },
    {
      "cell_type": "code",
      "metadata": {
        "id": "A-b0uhBnq6fK",
        "colab_type": "code",
        "colab": {
          "base_uri": "https://localhost:8080/",
          "height": 187
        },
        "outputId": "98d55b73-ae33-4d6f-ddf8-a8fa1071684c"
      },
      "source": [
        "similar"
      ],
      "execution_count": 32,
      "outputs": [
        {
          "output_type": "execute_result",
          "data": {
            "text/plain": [
              "[('visions', 0.21946656703948975),\n",
              " ('power', 0.2013697475194931),\n",
              " ('levels', 0.20083414018154144),\n",
              " ('tried', 0.19769465923309326),\n",
              " ('done', 0.17322474718093872),\n",
              " ('culture', 0.17075122892856598),\n",
              " ('top', 0.15144646167755127),\n",
              " ('nuclear', 0.14004044234752655),\n",
              " ('falling', 0.1373576521873474),\n",
              " ('succeeded', 0.13648033142089844)]"
            ]
          },
          "metadata": {
            "tags": []
          },
          "execution_count": 32
        }
      ]
    },
    {
      "cell_type": "code",
      "metadata": {
        "id": "yz7cMsmhq8Jj",
        "colab_type": "code",
        "colab": {}
      },
      "source": [
        "my_dict = dict({})\n",
        "for idx, key in enumerate(model.wv.vocab):\n",
        "    my_dict[key] = model.wv[key]"
      ],
      "execution_count": 0,
      "outputs": []
    },
    {
      "cell_type": "code",
      "metadata": {
        "id": "BoCXMUPMq_wW",
        "colab_type": "code",
        "colab": {}
      },
      "source": [
        "vectors=[]\n",
        "for k in my_dict:\n",
        "    vectors.append(my_dict[k])"
      ],
      "execution_count": 0,
      "outputs": []
    },
    {
      "cell_type": "code",
      "metadata": {
        "id": "CMiFDkm6rCCx",
        "colab_type": "code",
        "colab": {
          "base_uri": "https://localhost:8080/",
          "height": 34
        },
        "outputId": "c09bbd4f-4c14-4d57-a1e8-c375e4a462a1"
      },
      "source": [
        "len(vectors)"
      ],
      "execution_count": 36,
      "outputs": [
        {
          "output_type": "execute_result",
          "data": {
            "text/plain": [
              "123"
            ]
          },
          "metadata": {
            "tags": []
          },
          "execution_count": 36
        }
      ]
    },
    {
      "cell_type": "code",
      "metadata": {
        "id": "cFdJRlAgrDCe",
        "colab_type": "code",
        "colab": {
          "base_uri": "https://localhost:8080/",
          "height": 459
        },
        "outputId": "c9e5b035-32ab-4b31-ff65-ef58c6d4ebcf"
      },
      "source": [
        "vectors[0]"
      ],
      "execution_count": 37,
      "outputs": [
        {
          "output_type": "execute_result",
          "data": {
            "text/plain": [
              "array([ 2.1501903e-03, -1.8762305e-03, -5.8774621e-04, -1.0408314e-03,\n",
              "        9.2703564e-04,  4.7215596e-03,  8.9430233e-04, -2.6332363e-03,\n",
              "       -3.2675034e-05, -4.7529736e-03, -3.9238087e-03,  2.6687272e-03,\n",
              "        4.7036279e-03,  1.2411801e-03,  3.6621229e-03,  1.0046437e-04,\n",
              "       -1.0109768e-03,  4.2124279e-03,  1.2636462e-03, -4.2363703e-03,\n",
              "        4.0818742e-03, -4.0122890e-03, -7.9105474e-04, -2.9205382e-03,\n",
              "        4.0266495e-03,  2.5760173e-03, -1.3026275e-03,  4.0157987e-03,\n",
              "        2.5959709e-03,  9.3184097e-04,  3.8501250e-03, -4.9719340e-03,\n",
              "       -2.6943285e-03,  1.9574296e-03, -3.3608798e-03,  3.6603652e-04,\n",
              "        3.8362229e-03,  1.8683810e-03,  1.7419419e-03, -2.4491774e-03,\n",
              "        8.4961954e-05,  4.6532494e-03,  3.0790023e-03,  3.2795018e-03,\n",
              "       -3.8154633e-03, -3.3196330e-03, -4.4713086e-03, -1.4892448e-03,\n",
              "        3.2638037e-03,  3.6369946e-03, -1.7235701e-03,  3.6551324e-03,\n",
              "       -3.7911746e-03,  3.1949941e-03, -3.6108985e-03, -3.6716710e-03,\n",
              "       -3.5589051e-03, -3.3571888e-04, -3.1648232e-03,  2.6022184e-03,\n",
              "       -1.7795371e-03,  4.3637860e-03, -4.5719268e-03,  4.0301448e-03,\n",
              "        3.2592008e-03, -3.1341210e-03,  3.4796507e-03, -1.0613276e-03,\n",
              "        1.7211217e-03, -3.5393240e-03, -5.3826352e-05,  2.3861383e-03,\n",
              "        3.1042325e-03,  2.7840519e-03,  5.7603786e-04, -4.1638850e-03,\n",
              "       -1.5901034e-03, -6.2141422e-04, -1.1360337e-04, -1.0901276e-03,\n",
              "        4.3562232e-03, -5.9427740e-04,  2.3724081e-03,  7.4943085e-04,\n",
              "        1.8878694e-03, -6.1355747e-04,  2.3389237e-03, -9.2380977e-04,\n",
              "        1.8197474e-03,  2.0843435e-03, -3.9679250e-03, -2.7251127e-03,\n",
              "       -3.8293509e-03, -1.7737036e-03, -3.0649456e-03, -2.5362372e-03,\n",
              "       -1.0562002e-03, -3.2321562e-03, -3.7755300e-03,  4.0480345e-03],\n",
              "      dtype=float32)"
            ]
          },
          "metadata": {
            "tags": []
          },
          "execution_count": 37
        }
      ]
    },
    {
      "cell_type": "code",
      "metadata": {
        "id": "bf0fHLSNrK0K",
        "colab_type": "code",
        "colab": {}
      },
      "source": [
        ""
      ],
      "execution_count": 0,
      "outputs": []
    }
  ]
}