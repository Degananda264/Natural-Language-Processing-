{
  "nbformat": 4,
  "nbformat_minor": 0,
  "metadata": {
    "colab": {
      "name": "Word2Vec using pretrained weights.ipynb",
      "provenance": [],
      "authorship_tag": "ABX9TyPHlx/QoCUaojN1F3p4vERO",
      "include_colab_link": true
    },
    "kernelspec": {
      "name": "python3",
      "display_name": "Python 3"
    }
  },
  "cells": [
    {
      "cell_type": "markdown",
      "metadata": {
        "id": "view-in-github",
        "colab_type": "text"
      },
      "source": [
        "<a href=\"https://colab.research.google.com/github/Degananda264/Natural-Language-Processing-/blob/master/Word2Vec_using_pretrained_weights.ipynb\" target=\"_parent\"><img src=\"https://colab.research.google.com/assets/colab-badge.svg\" alt=\"Open In Colab\"/></a>"
      ]
    },
    {
      "cell_type": "code",
      "metadata": {
        "id": "N3mzAqKfQwRU",
        "colab_type": "code",
        "colab": {}
      },
      "source": [
        "import tensorflow as tf\n",
        "import tensorflow_hub as hub\n",
        "import numpy as np"
      ],
      "execution_count": 1,
      "outputs": []
    },
    {
      "cell_type": "code",
      "metadata": {
        "id": "KQlRf8T8RCPo",
        "colab_type": "code",
        "colab": {}
      },
      "source": [
        "# Load Pretrained Word2Vec\n",
        "embed = hub.load(\"https://tfhub.dev/google/Wiki-words-250-with-normalization/2\")"
      ],
      "execution_count": 2,
      "outputs": []
    },
    {
      "cell_type": "code",
      "metadata": {
        "id": "aT-GAOsXRcqE",
        "colab_type": "code",
        "colab": {}
      },
      "source": [
        "words = [\"batsmen\", \"bowler\", \"fielder\", \"wicket keeper\"]\n",
        "# Compute embeddings.\n",
        "embeddings = embed(words)"
      ],
      "execution_count": 11,
      "outputs": []
    },
    {
      "cell_type": "code",
      "metadata": {
        "id": "C1tHX8l0RtRw",
        "colab_type": "code",
        "colab": {
          "base_uri": "https://localhost:8080/",
          "height": 34
        },
        "outputId": "6a47eb0c-fc71-40c0-ec21-a2b521fdbeb9"
      },
      "source": [
        "print(embeddings.shape)"
      ],
      "execution_count": 12,
      "outputs": [
        {
          "output_type": "stream",
          "text": [
            "(4, 250)\n"
          ],
          "name": "stdout"
        }
      ]
    },
    {
      "cell_type": "code",
      "metadata": {
        "id": "IKcnE4ylRwLi",
        "colab_type": "code",
        "colab": {
          "base_uri": "https://localhost:8080/",
          "height": 1000
        },
        "outputId": "aca674ea-e80f-466f-b6f4-13d297883c3c"
      },
      "source": [
        "print(embeddings[0])"
      ],
      "execution_count": 13,
      "outputs": [
        {
          "output_type": "stream",
          "text": [
            "tf.Tensor(\n",
            "[-8.00827295e-02  1.79108500e-01 -5.50759286e-02 -9.31292623e-02\n",
            "  1.48660094e-02  2.82460693e-02 -7.55323172e-02 -6.20982163e-02\n",
            " -5.26990704e-02  1.27849430e-01  4.24817298e-03  1.17594451e-02\n",
            "  9.68058482e-02  9.48699266e-02 -1.14111289e-01 -6.54285848e-02\n",
            "  9.67205130e-03 -4.89004590e-02 -2.73858048e-02  3.83563377e-02\n",
            "  1.47422239e-01  2.14659460e-02  5.18564954e-02 -7.40846619e-02\n",
            "  6.84373602e-02 -2.58970051e-03 -2.26758309e-02 -6.65606856e-02\n",
            "  1.19527020e-01  1.40883639e-01  6.89763427e-02 -6.62143994e-03\n",
            " -9.29847732e-02 -1.19299173e-01 -4.47447896e-02 -3.28897461e-02\n",
            " -5.12338709e-03 -1.51383905e-02  8.42311308e-02 -5.02111949e-02\n",
            "  1.10443845e-01 -4.79238741e-02 -4.12708893e-02 -6.34025112e-02\n",
            "  1.04223244e-01  8.77889022e-02  6.42433688e-02  4.24315892e-02\n",
            "  3.95798236e-02  4.93802056e-02  4.13709097e-02  1.15451254e-02\n",
            "  1.19476477e-02 -4.11035115e-04 -3.99553496e-03 -2.84473109e-03\n",
            " -4.33941483e-02  4.48138379e-02 -1.41832400e-02  7.53243566e-02\n",
            " -3.11335418e-02  4.21236977e-02  2.99368985e-02 -6.04886096e-03\n",
            "  1.09583481e-04  1.09440973e-02  3.57472636e-02 -4.55345213e-02\n",
            "  3.48283686e-02 -7.79294223e-02 -4.40656133e-02  4.85882498e-02\n",
            "  3.66574079e-02 -2.68180631e-02 -1.14544794e-01  2.71383692e-02\n",
            "  2.29732282e-02 -1.00115672e-01  4.59892396e-03  6.59098476e-02\n",
            " -2.29916107e-02  4.32343259e-02  7.03841401e-03  7.33675808e-02\n",
            "  4.77412976e-02 -7.07019642e-02  9.16438997e-02  7.25083426e-02\n",
            " -3.00296396e-03 -1.35288507e-01  1.56727340e-02 -1.09980684e-02\n",
            " -3.87919322e-02 -8.45094249e-02  4.94013913e-02  2.90191974e-02\n",
            " -7.09442720e-02 -1.81998853e-02  1.86895877e-02 -1.48344217e-02\n",
            "  5.73486052e-02 -4.35263142e-02  3.93482409e-02  1.08928099e-01\n",
            "  8.99843425e-02 -3.52039300e-02  4.56683002e-02 -9.68607143e-04\n",
            "  5.02652349e-03  9.54837576e-02 -7.07595199e-02  6.83072880e-02\n",
            "  8.23399723e-02 -1.65056363e-02 -5.46062971e-03 -2.03062728e-01\n",
            " -1.26989502e-02 -3.60237956e-02  1.26509666e-02 -4.55494002e-02\n",
            "  4.51129265e-02 -9.79578644e-02 -2.99006365e-02  6.07993752e-02\n",
            "  2.79606525e-02 -9.53602344e-02  3.86236496e-02 -4.16637100e-02\n",
            "  9.33550149e-02  8.36098939e-02 -4.48213965e-02  1.57224704e-02\n",
            " -2.81776488e-02 -3.12931053e-02 -2.76609659e-02  3.80628705e-02\n",
            " -4.48222309e-02  1.41113233e-02  5.22834100e-02  3.08041573e-02\n",
            " -5.47490902e-02  1.25173658e-01 -2.54544429e-02  2.65703164e-02\n",
            "  5.44536747e-02  1.46289552e-02  3.34749669e-02 -1.25970170e-01\n",
            " -9.38599184e-02  7.53524303e-02 -4.86075394e-02  1.01232514e-01\n",
            "  2.42328197e-02 -3.76538485e-02 -3.99605073e-02  4.50362153e-02\n",
            "  4.58757486e-03 -4.86050136e-02  1.18952572e-01 -2.17674728e-02\n",
            " -4.04261611e-02 -4.24409807e-02  1.87854189e-02 -1.37122065e-01\n",
            " -4.16804925e-02 -7.10121840e-02 -4.88425978e-03 -5.90140140e-03\n",
            "  1.33399814e-01  7.77550265e-02  6.87434599e-02 -4.30795476e-02\n",
            " -9.85815674e-02  2.95075588e-02  2.82059051e-02  2.28654686e-02\n",
            " -9.69275460e-03  2.70317048e-02  6.50273636e-02 -7.60557014e-04\n",
            "  2.37470753e-02  1.55646145e-01 -1.95343178e-02 -3.71953398e-02\n",
            "  1.37282923e-01  4.85224575e-02 -7.24140182e-03 -6.07924594e-04\n",
            " -1.17142245e-01 -1.02695227e-01  7.30689391e-02  3.00421808e-02\n",
            "  5.40013537e-02 -2.00207457e-02 -6.03080131e-02  2.67801248e-02\n",
            " -1.79570597e-02  1.47866458e-02 -7.89032038e-03 -7.22029507e-02\n",
            "  4.49084193e-02 -1.06757123e-03  7.59808347e-02 -4.03247215e-02\n",
            "  2.91285980e-02 -9.99266431e-02 -1.82514032e-03 -4.09731530e-02\n",
            " -5.81484661e-02 -1.12631194e-01  6.95381090e-02 -3.25043350e-02\n",
            "  5.80782518e-02 -5.08019626e-02  5.39019704e-03 -2.67251208e-02\n",
            "  9.50932503e-02  6.05165996e-02  3.07369931e-03  9.68010053e-02\n",
            " -7.11049652e-03 -3.21676694e-02 -8.16215388e-03 -1.95392873e-02\n",
            "  1.13365531e-01 -4.92672399e-02  6.68162704e-02 -7.52360597e-02\n",
            "  1.07769407e-01 -5.02350181e-02 -2.20388193e-02 -8.03242177e-02\n",
            " -1.08199485e-01  2.56311178e-04  9.02782232e-02  3.72377061e-03\n",
            " -3.34024504e-02  1.60504114e-02 -2.11531315e-02  3.65564488e-02\n",
            "  7.39578456e-02  6.12356476e-02 -2.52317060e-02 -4.88909371e-02\n",
            "  2.53271461e-02  9.51688439e-02  6.86099380e-02  2.05616355e-02\n",
            "  1.81600153e-02  4.16436233e-02], shape=(250,), dtype=float32)\n"
          ],
          "name": "stdout"
        }
      ]
    },
    {
      "cell_type": "code",
      "metadata": {
        "id": "iqXPeYm3RzBi",
        "colab_type": "code",
        "colab": {
          "base_uri": "https://localhost:8080/",
          "height": 187
        },
        "outputId": "ab8cd7aa-800e-412c-bc6d-bbb51497153c"
      },
      "source": [
        "# Compute similarity matrix. Higher score indicates greater similarity.\n",
        "for i in range(len(words)):\n",
        "    for j in range(i,len(words)):\n",
        "        print(\"(\",words[i], \",\", words[j],\")\",np.inner(embeddings[i], embeddings[j]))"
      ],
      "execution_count": 14,
      "outputs": [
        {
          "output_type": "stream",
          "text": [
            "( batsmen , batsmen ) 1.0\n",
            "( batsmen , bowler ) 0.86392474\n",
            "( batsmen , fielder ) 0.549619\n",
            "( batsmen , wicket keeper ) 1.025239\n",
            "( bowler , bowler ) 1.0\n",
            "( bowler , fielder ) 0.47384062\n",
            "( bowler , wicket keeper ) 1.0045513\n",
            "( fielder , fielder ) 1.0\n",
            "( fielder , wicket keeper ) 0.5843509\n",
            "( wicket keeper , wicket keeper ) 1.575183\n"
          ],
          "name": "stdout"
        }
      ]
    },
    {
      "cell_type": "code",
      "metadata": {
        "id": "SXGCISWtR2Q4",
        "colab_type": "code",
        "colab": {}
      },
      "source": [
        ""
      ],
      "execution_count": null,
      "outputs": []
    }
  ]
}